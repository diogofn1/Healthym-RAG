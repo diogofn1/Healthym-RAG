{
  "nbformat": 4,
  "nbformat_minor": 0,
  "metadata": {
    "colab": {
      "provenance": [],
      "gpuType": "T4",
      "authorship_tag": "ABX9TyPTj/4virqw/E6vSWs95Zdr",
      "include_colab_link": true
    },
    "kernelspec": {
      "name": "python3",
      "display_name": "Python 3"
    },
    "language_info": {
      "name": "python"
    },
    "accelerator": "GPU"
  },
  "cells": [
    {
      "cell_type": "markdown",
      "metadata": {
        "id": "view-in-github",
        "colab_type": "text"
      },
      "source": [
        "<a href=\"https://colab.research.google.com/github/diogofn1/Healthym-RAG/blob/main/Knowledge_base_creation.ipynb\" target=\"_parent\"><img src=\"https://colab.research.google.com/assets/colab-badge.svg\" alt=\"Open In Colab\"/></a>"
      ]
    },
    {
      "cell_type": "markdown",
      "source": [
        "# Important\n",
        "This notebook was made to be run in google colab. This was done in order to allow users to make use of it regardless of having a good computer at home. However, with a small change in loading Hugging Face token, it can be run in a personal computer.\n",
        "If run as a free Google Colab user, I recommend connection to a machine called 'GPUs: T4'. You can set that at the top right of your screen."
      ],
      "metadata": {
        "id": "1wnn_llM3m-6"
      }
    },
    {
      "cell_type": "markdown",
      "source": [
        "# Synthetic text data generator\n",
        "The goal of this notebook is to use a synthetic text data generator to make a knowledge base about a company caled Healthym, which is a fictional company in the healthy foods market. The data produced should cover information company, recipes and suppliers.\n",
        "\n",
        "For a more detailed approach on how the data generator works or to use it in your own projects, please consult: https://github.com/diogofn1/Synthetic-Text-Data-Generator"
      ],
      "metadata": {
        "id": "uJdUcweyyuzK"
      }
    },
    {
      "cell_type": "code",
      "execution_count": null,
      "metadata": {
        "id": "ZNRM8bjkyrK1"
      },
      "outputs": [],
      "source": [
        "# Install requirements\n",
        "\n",
        "!pip install -q requests torch bitsandbytes transformers sentencepiece accelerate"
      ]
    },
    {
      "cell_type": "code",
      "source": [
        "# Relevant imports\n",
        "\n",
        "from google.colab import userdata, files\n",
        "from huggingface_hub import login\n",
        "from transformers import AutoTokenizer, AutoModelForCausalLM, TextStreamer, BitsAndBytesConfig\n",
        "import torch\n",
        "import gc\n",
        "from IPython import display"
      ],
      "metadata": {
        "id": "uT0BdxE81KWp"
      },
      "execution_count": null,
      "outputs": []
    },
    {
      "cell_type": "code",
      "source": [
        "# Login to HuggingFace. HF_Token must be set in Google Colab Secrets\n",
        "# If using on a personal machine, change this cell to load HF_TOKEN from a .env file\n",
        "# One could also hardcode the token, but it is not recommended\n",
        "\n",
        "hf_token = userdata.get('HF_TOKEN')\n",
        "login(hf_token, add_to_git_credential=True)"
      ],
      "metadata": {
        "id": "gfrySVz62C_6"
      },
      "execution_count": null,
      "outputs": []
    },
    {
      "cell_type": "code",
      "source": [
        "# Quantization configuration\n",
        "# Quantization allows less use of memory to load the model at the cost of some accuracy\n",
        "# Without this, the notebook is likely to crash for lack of memory\n",
        "\n",
        "quant_config = BitsAndBytesConfig(\n",
        "    load_in_4bit=True,\n",
        "    bnb_4bit_use_double_quant=True,\n",
        "    bnb_4bit_compute_dtype=torch.bfloat16,\n",
        "    bnb_4bit_quant_type=\"nf4\"\n",
        ")"
      ],
      "metadata": {
        "id": "w7hdQyEa2YkN"
      },
      "execution_count": null,
      "outputs": []
    },
    {
      "cell_type": "code",
      "source": [
        "# Load desired model\n",
        "\n",
        "tokenizer = AutoTokenizer.from_pretrained(\"meta-llama/Meta-Llama-3.1-8B-Instruct\")\n",
        "tokenizer.pad_token = tokenizer.eos_token\n",
        "model = AutoModelForCausalLM.from_pretrained(\"meta-llama/Meta-Llama-3.1-8B-Instruct\",\n",
        "                                             device_map=\"auto\",\n",
        "                                             quantization_config=quant_config)"
      ],
      "metadata": {
        "id": "TXW-Ytq92mLx"
      },
      "execution_count": null,
      "outputs": []
    },
    {
      "cell_type": "markdown",
      "source": [
        "## Generating new data\n",
        "### 1. Company description\n",
        "The description of the company was already created using this generator at a prior date. It will be use as a base to take decisions about products, recipes and market campaing to be generated in this notebook."
      ],
      "metadata": {
        "id": "LwRBYWnGXQvP"
      }
    },
    {
      "cell_type": "code",
      "source": [
        "# Load in company description\n",
        "company_summary = open('./knowledge_base/company/company_summary.md', 'r').read()\n",
        "display.Markdown(company_summary)"
      ],
      "metadata": {
        "colab": {
          "base_uri": "https://localhost:8080/",
          "height": 937
        },
        "id": "P3NCuzQgXMNn",
        "outputId": "d3228002-1406-40aa-a72d-731deec295e0"
      },
      "execution_count": null,
      "outputs": [
        {
          "output_type": "execute_result",
          "data": {
            "text/plain": [
              "<IPython.core.display.Markdown object>"
            ],
            "text/markdown": "==============================================\n\nHealthym: Nourishing Communities with Healthy Foods\n=====================================================\n\n### Summary\n\nHealthym is a pioneering company dedicated to providing high-quality, healthy foods to local communities. We believe that everyone deserves access to nutritious food, regardless of their location or socioeconomic status. Our mission is to make healthy eating a reality for all, while promoting sustainability and supporting local economies.\n\n### Services\n\nHealthym offers a wide range of healthy food products, including:\n\n* Fresh produce: seasonal fruits and vegetables sourced from local farmers\n* Whole grains: artisanal bread, pasta, and rice from small-scale producers\n* Plant-based protein: organic tofu, tempeh, and seitan from local suppliers\n* Specialty foods: artisanal cheeses, fermented foods, and international cuisine\n* Meal kits: pre-portioned ingredients and recipes for easy meal prep\n\nOur products are carefully curated to meet the diverse needs of our customers, from busy professionals to families and individuals with dietary restrictions.\n\n### Background History\n\nHealthym was founded in 2015 by a group of passionate entrepreneurs who recognized the need for healthier food options in local communities. Our initial store opened in a small town in the Midwest, where we quickly gained a loyal customer base. As our popularity grew, we expanded to new locations, refining our business model and product offerings along the way.\n\nToday, Healthym operates over 50 stores across the United States, with a strong presence in urban and rural areas. Our commitment to quality, sustainability, and community engagement has earned us a reputation as a trusted leader in the healthy food industry.\n\n### Company Values and Mission\n\nAt Healthym, we live by the following values:\n\n* **Quality**: We source only the best ingredients from local suppliers to ensure our products meet the highest standards.\n* **Sustainability**: We strive to minimize our environmental footprint through eco-friendly packaging, reduced waste, and energy-efficient operations.\n* **Community**: We believe in giving back to the communities we serve, through partnerships with local organizations and initiatives that promote food security and education.\n\nOur mission is to:\n\n* Provide access to healthy, nutritious food for all members of our communities\n* Foster a culture of sustainability and environmental responsibility\n* Support local economies and small-scale producers\n* Educate and empower our customers to make informed food choices\n\nAt Healthym, we're dedicated to making a positive impact on the health and well-being of our customers, while promoting a more sustainable and equitable food system. Join us in our mission to nourish communities and create a healthier, happier world."
          },
          "metadata": {},
          "execution_count": 21
        }
      ]
    },
    {
      "cell_type": "code",
      "source": [
        "# Define helper function to generate new data\n",
        "\n",
        "def generate_document(prompt, max_new_tokens=2000):\n",
        "\n",
        "  \"\"\"\n",
        "  Generate documents based on the prompt given.\n",
        "  Prompt (str): Instructions for the model.\n",
        "  max_new_tokens (int): Maximum number of new tokens to generate.\n",
        "  \"\"\"\n",
        "\n",
        "  prompt_updated = (\n",
        "    \"You are a synthetic data generator.\\n\\n\"\n",
        "    f\"{prompt}\\n\"\n",
        "    \"Output your response in markdown format.\\n\"\n",
        "  )\n",
        "  inputs = tokenizer(prompt_updated, return_tensors=\"pt\").to(\"cuda\")\n",
        "  input_length = inputs['input_ids'].shape[1]  # Number of tokens in the prompt\n",
        "  outputs = model.generate(inputs['input_ids'], max_new_tokens=2000)\n",
        "  generated_tokens = outputs[0][input_length:]\n",
        "  generated_text = tokenizer.decode(generated_tokens, skip_special_tokens=True)\n",
        "\n",
        "  return generated_text"
      ],
      "metadata": {
        "id": "nP3zj5duGX8r"
      },
      "execution_count": null,
      "outputs": []
    },
    {
      "cell_type": "markdown",
      "source": [
        "### 2. Products"
      ],
      "metadata": {
        "id": "D7a55GfSZiD2"
      }
    },
    {
      "cell_type": "code",
      "source": [
        "# Generate a list of products\n",
        "\n",
        "input_prompt = \"Generate a list of 15 products commercialized by Healthym, a company that sells healthy foods at local stores.\\n\"\n",
        "input_prompt += \"Use the company description as context.\\n\"\n",
        "input_prompt += f\"Company description:\\n\\n {company_summary}\\n\\n\"\n",
        "input_prompt += \"Here are some product examples: seasonal fruits, artisanal bread, artisanal cheeses, gluten-free pasta.\"\n",
        "\n",
        "inputs = tokenizer(input_prompt, return_tensors=\"pt\").to(\"cuda\")\n",
        "input_length = inputs['input_ids'].shape[1]  # Number of tokens in the prompt\n",
        "outputs = model.generate(inputs['input_ids'], max_new_tokens=500)\n",
        "generated_tokens = outputs[0][input_length:]\n",
        "generated_text = tokenizer.decode(generated_tokens, skip_special_tokens=True)\n"
      ],
      "metadata": {
        "colab": {
          "base_uri": "https://localhost:8080/"
        },
        "id": "guDn7RfxZoq-",
        "outputId": "a86b3199-9657-4cea-fede-2a26bc47805b"
      },
      "execution_count": null,
      "outputs": [
        {
          "output_type": "stream",
          "name": "stderr",
          "text": [
            "The attention mask and the pad token id were not set. As a consequence, you may observe unexpected behavior. Please pass your input's `attention_mask` to obtain reliable results.\n",
            "Setting `pad_token_id` to `eos_token_id`:128001 for open-end generation.\n"
          ]
        }
      ]
    },
    {
      "cell_type": "code",
      "source": [
        "# Inspect generated list\n",
        "\n",
        "display.Markdown(generated_text)"
      ],
      "metadata": {
        "colab": {
          "base_uri": "https://localhost:8080/",
          "height": 595
        },
        "id": "0_LxwmLzcLa3",
        "outputId": "25393032-a51a-4395-b05a-b107a4bba84b"
      },
      "execution_count": null,
      "outputs": [
        {
          "output_type": "execute_result",
          "data": {
            "text/plain": [
              "<IPython.core.display.Markdown object>"
            ],
            "text/markdown": " There are many more products that Healthym sells. Here is a list of 15 products commercialized by Healthym:\n\n1.  **Fresh Pineapple**: A sweet and juicy seasonal fruit sourced from local farmers.\n2.  **Whole Wheat Bread**: Artisanal bread made from high-quality whole wheat flour and baked in small batches.\n3.  **Greek Yogurt**: A thick and creamy yogurt made from non-fat milk and live cultures.\n4.  **Quinoa Salad**: A mix of cooked quinoa, roasted vegetables, and a tangy dressing, perfect for a quick and easy meal.\n5.  **Roasted Chickpeas**: Crispy and flavorful chickpeas seasoned with herbs and spices, great as a snack or addition to salads.\n6.  **Grilled Chicken Breast**: Lean and juicy chicken breast, marinated in a blend of herbs and spices, perfect for sandwiches or salads.\n7.  **Brown Rice**: High-quality brown rice, sourced from local suppliers and cooked to perfection.\n8.  **Spinach and Feta Wrap**: A flavorful wrap filled with spinach, feta cheese, and a hint of lemon, perfect for a quick and easy meal.\n9.  **Cauliflower Rice**: A low-carb and gluten-free alternative to traditional rice, made from cauliflower and perfect for stir-fries and curries.\n10. **Apple Cider**: A refreshing and tangy apple cider, made from locally sourced apples and perfect for hot summer days.\n11. **Kale Chips**: Crispy and flavorful kale chips, seasoned with herbs and spices, great as a snack or addition to salads.\n12. **Turkey Meatballs**: Lean and flavorful turkey meatballs, made with ground turkey and a blend of herbs and spices, perfect for pasta sauces and sandwiches.\n13. **Gluten-Free Pasta**: A high-quality gluten-free pasta, made from rice flour and perfect for those with dietary restrictions.\n14. **Avocado Toast**: Toasted whole grain bread topped with mashed avocado, cherry tomatoes, and a sprinkle of red pepper flakes, perfect for a healthy and delicious breakfast or snack.\n15. **Lentil Soup**: A hearty and comforting lentil soup, made with red lentils and a blend of aromatic spices, perfect for a cold winter's day.\n\nThese are just a few examples of the many products that Healthym sells. Their product line is diverse and caters to various dietary needs and preferences. Healthym"
          },
          "metadata": {},
          "execution_count": 27
        }
      ]
    },
    {
      "cell_type": "markdown",
      "source": [
        "This is a great list to work with. In order to refine it, \"Fresh Pineapple\" will be replaced by Fresh Fruits; and \"Whole Wheat Bread\" by \"Artisanal Bread\"."
      ],
      "metadata": {
        "id": "z7RIo7vHeluY"
      }
    },
    {
      "cell_type": "code",
      "source": [
        "# Make refinements\n",
        "\n",
        "product_list = generated_text.replace(\"Fresh Pineapple**: A sweet and juicy seasonal fruit\", \"Fresh Fruits**: Sweet and juicy seasonal fruits\")\n",
        "product_list = product_list.replace(\"Whole Wheat Bread\", \"Artisanal Bread\")\n"
      ],
      "metadata": {
        "id": "RxL25tVSfURh"
      },
      "execution_count": null,
      "outputs": []
    },
    {
      "cell_type": "code",
      "source": [
        "display.Markdown(product_list)"
      ],
      "metadata": {
        "colab": {
          "base_uri": "https://localhost:8080/",
          "height": 595
        },
        "id": "CdhzFnxdgAFe",
        "outputId": "7fa25749-578c-40a3-e240-3cbbef547822"
      },
      "execution_count": null,
      "outputs": [
        {
          "output_type": "execute_result",
          "data": {
            "text/plain": [
              "<IPython.core.display.Markdown object>"
            ],
            "text/markdown": " There are many more products that Healthym sells. Here is a list of 15 products commercialized by Healthym:\n\n1.  **Fresh Fruits**: Sweet and juicy seasonal fruits sourced from local farmers.\n2.  **Artisanal Bread**: Artisanal bread made from high-quality whole wheat flour and baked in small batches.\n3.  **Greek Yogurt**: A thick and creamy yogurt made from non-fat milk and live cultures.\n4.  **Quinoa Salad**: A mix of cooked quinoa, roasted vegetables, and a tangy dressing, perfect for a quick and easy meal.\n5.  **Roasted Chickpeas**: Crispy and flavorful chickpeas seasoned with herbs and spices, great as a snack or addition to salads.\n6.  **Grilled Chicken Breast**: Lean and juicy chicken breast, marinated in a blend of herbs and spices, perfect for sandwiches or salads.\n7.  **Brown Rice**: High-quality brown rice, sourced from local suppliers and cooked to perfection.\n8.  **Spinach and Feta Wrap**: A flavorful wrap filled with spinach, feta cheese, and a hint of lemon, perfect for a quick and easy meal.\n9.  **Cauliflower Rice**: A low-carb and gluten-free alternative to traditional rice, made from cauliflower and perfect for stir-fries and curries.\n10. **Apple Cider**: A refreshing and tangy apple cider, made from locally sourced apples and perfect for hot summer days.\n11. **Kale Chips**: Crispy and flavorful kale chips, seasoned with herbs and spices, great as a snack or addition to salads.\n12. **Turkey Meatballs**: Lean and flavorful turkey meatballs, made with ground turkey and a blend of herbs and spices, perfect for pasta sauces and sandwiches.\n13. **Gluten-Free Pasta**: A high-quality gluten-free pasta, made from rice flour and perfect for those with dietary restrictions.\n14. **Avocado Toast**: Toasted whole grain bread topped with mashed avocado, cherry tomatoes, and a sprinkle of red pepper flakes, perfect for a healthy and delicious breakfast or snack.\n15. **Lentil Soup**: A hearty and comforting lentil soup, made with red lentils and a blend of aromatic spices, perfect for a cold winter's day.\n\nThese are just a few examples of the many products that Healthym sells. Their product line is diverse and caters to various dietary needs and preferences. Healthym"
          },
          "metadata": {},
          "execution_count": 37
        }
      ]
    },
    {
      "cell_type": "code",
      "source": [
        "# Save product list locally\n",
        "with open(f'product_sample.md', 'w') as f:\n",
        "  f.write(product_list)\n",
        "files.download(f'product_sample.md')"
      ],
      "metadata": {
        "colab": {
          "base_uri": "https://localhost:8080/",
          "height": 17
        },
        "id": "NKOTHlIkglUe",
        "outputId": "c7e8eb05-1011-4c7b-c165-20723b8f67e9"
      },
      "execution_count": null,
      "outputs": [
        {
          "output_type": "display_data",
          "data": {
            "text/plain": [
              "<IPython.core.display.Javascript object>"
            ],
            "application/javascript": [
              "\n",
              "    async function download(id, filename, size) {\n",
              "      if (!google.colab.kernel.accessAllowed) {\n",
              "        return;\n",
              "      }\n",
              "      const div = document.createElement('div');\n",
              "      const label = document.createElement('label');\n",
              "      label.textContent = `Downloading \"${filename}\": `;\n",
              "      div.appendChild(label);\n",
              "      const progress = document.createElement('progress');\n",
              "      progress.max = size;\n",
              "      div.appendChild(progress);\n",
              "      document.body.appendChild(div);\n",
              "\n",
              "      const buffers = [];\n",
              "      let downloaded = 0;\n",
              "\n",
              "      const channel = await google.colab.kernel.comms.open(id);\n",
              "      // Send a message to notify the kernel that we're ready.\n",
              "      channel.send({})\n",
              "\n",
              "      for await (const message of channel.messages) {\n",
              "        // Send a message to notify the kernel that we're ready.\n",
              "        channel.send({})\n",
              "        if (message.buffers) {\n",
              "          for (const buffer of message.buffers) {\n",
              "            buffers.push(buffer);\n",
              "            downloaded += buffer.byteLength;\n",
              "            progress.value = downloaded;\n",
              "          }\n",
              "        }\n",
              "      }\n",
              "      const blob = new Blob(buffers, {type: 'application/binary'});\n",
              "      const a = document.createElement('a');\n",
              "      a.href = window.URL.createObjectURL(blob);\n",
              "      a.download = filename;\n",
              "      div.appendChild(a);\n",
              "      a.click();\n",
              "      div.remove();\n",
              "    }\n",
              "  "
            ]
          },
          "metadata": {}
        },
        {
          "output_type": "display_data",
          "data": {
            "text/plain": [
              "<IPython.core.display.Javascript object>"
            ],
            "application/javascript": [
              "download(\"download_b75f9af1-f160-46c8-874b-ab97a6e2714d\", \"product_sample.md\", 2206)"
            ]
          },
          "metadata": {}
        }
      ]
    },
    {
      "cell_type": "code",
      "source": [
        "# Generate products decriptions based on product list\n",
        "\n",
        "products = ['seasonal fruits', \"artisanal bread\", \"greek yorgut\", \"quinoa salad\", \"roasted chickpeas\",\n",
        "            \"grilled chicken breast\", \"brown rice\", \"spinach and feta wrap\", \"cauliflower rice\", \"apple cider\",\n",
        "            \"kale chips\", \"turkey meatballs\", \"gluten-free pasta\", \"avocado toast\", \"lentil soup\"]\n",
        "\n",
        "for product in products:\n",
        "\n",
        "  prompt = (\n",
        "      \"Generate a document about products commercialized by Healthym, a company that sells healthy foods at local stores.\\n\"\n",
        "      \"This document should contain a couple of sections: product summary; a description of what it can be used for;\\n\"\n",
        "      \"product origin; and a sample recipe in which it can be used, if applicable.\\n\"\n",
        "      f\"The product is: {product}.\\n\"\n",
        "  )\n",
        "\n",
        "  product_description = generate_document(prompt, max_new_tokens=2000)\n",
        "\n",
        "  with open(f'{product}.md', 'w') as f:\n",
        "    f.write(product_description)\n",
        "  files.download(f'{product}.md')"
      ],
      "metadata": {
        "id": "51b3LcQ0hvEn"
      },
      "execution_count": null,
      "outputs": []
    },
    {
      "cell_type": "code",
      "source": [
        "# Product file sample\n",
        "with open(\"quinoa salad.md\", 'r') as f:\n",
        "  file = f.read()\n",
        "\n",
        "display.Markdown(file)"
      ],
      "metadata": {
        "colab": {
          "base_uri": "https://localhost:8080/",
          "height": 811
        },
        "id": "C4qNl6DXwfot",
        "outputId": "e6c441fd-80d9-4028-c03d-b6c85296357d"
      },
      "execution_count": null,
      "outputs": [
        {
          "output_type": "execute_result",
          "data": {
            "text/plain": [
              "<IPython.core.display.Markdown object>"
            ],
            "text/markdown": "# Healthym Product Summary\n\n## Quinoa Salad\n\n### Product Summary\n\nQuinoa salad is a delicious and nutritious food product from Healthym, made with quinoa, mixed vegetables, and a hint of lemon juice. This product is perfect for health-conscious individuals who want to incorporate more plant-based meals into their diet.\n\n### Description of What It Can Be Used For\n\nQuinoa salad can be used as a:\n\n* Main course: Serve it as a filling and satisfying meal on its own or with some whole grain bread.\n* Side dish: Add it to your favorite meals, such as grilled chicken or fish, for a nutritious and tasty accompaniment.\n* Salad topping: Mix it with your favorite greens, nuts, and fruits to create a fresh and healthy salad.\n* Meal prep: Use it as a base for your meal prep bowls, adding your favorite proteins and vegetables.\n\n### Product Origin\n\nQuinoa salad is made from high-quality quinoa, sourced from local farmers in the region. The mixed vegetables are carefully selected and washed to ensure freshness and quality. The product is then prepared and packaged in our state-of-the-art facility, adhering to the highest food safety standards.\n\n### Sample Recipe\n\n**Quinoa Salad with Roasted Vegetables and Lemon Vinaigrette**\n\nIngredients:\n\n* 1 cup quinoa salad\n* 2 cups mixed roasted vegetables (such as broccoli, carrots, and sweet potatoes)\n* 2 tablespoons lemon vinaigrette\n* 1/4 cup chopped fresh herbs (such as parsley and basil)\n* Salt and pepper to taste\n\nInstructions:\n\n1. Preheat your oven to 400°F (200°C).\n2. Toss the mixed vegetables with olive oil, salt, and pepper, and roast in the oven for 20-25 minutes or until tender.\n3. In a large bowl, combine the quinoa salad, roasted vegetables, and chopped fresh herbs.\n4. Drizzle with lemon vinaigrette and toss to combine.\n5. Serve warm or at room temperature.\n\nEnjoy your delicious and nutritious quinoa salad!"
          },
          "metadata": {},
          "execution_count": 13
        }
      ]
    },
    {
      "cell_type": "markdown",
      "source": [
        "### 3. Recipes"
      ],
      "metadata": {
        "id": "Rdre5SREp4dG"
      }
    },
    {
      "cell_type": "code",
      "source": [
        "# Generate recipes for different occasions based on products\n",
        "\n",
        "products = ['seasonal fruits', \"artisanal bread\", \"greek yorgut\", \"quinoa salad\", \"roasted chickpeas\",\n",
        "            \"grilled chicken breast\", \"brown rice\", \"spinach and feta wrap\", \"cauliflower rice\", \"apple cider\",\n",
        "            \"kale chips\", \"turkey meatballs\", \"gluten-free pasta\", \"avocado toast\", \"lentil soup\"]\n",
        "\n",
        "occasions = ['breakfast', 'lunch', 'diner']\n",
        "\n",
        "for product in products:\n",
        "  for occasion in occasions:\n",
        "\n",
        "    prompt = (\n",
        "        \"Generate a document about a recipe for a specific occasion using a product commercialized by Healthym, a company that sells healthy foods at local stores.\\n\"\n",
        "        \"This document should contain a couple of sections: recipe title;\"\n",
        "        \"recipe summary (includeing ingredients list, how long it takes to make it, and how many people it serves);\\n\"\n",
        "        \"how to make it step-by-step.\"\n",
        "        f\"The product is: {product}.\\n\"\n",
        "        f\"The occasion is: {occasion}.\\n\"\n",
        "    )\n",
        "\n",
        "    product_description = generate_document(prompt, max_new_tokens=2000)\n",
        "\n",
        "    with open(f'{product}_{occasion}_recipe.md', 'w') as f:\n",
        "      f.write(product_description)\n",
        "    files.download(f'{product}_{occasion}_recipe.md')"
      ],
      "metadata": {
        "id": "GgmAqBaapczm"
      },
      "execution_count": null,
      "outputs": []
    },
    {
      "cell_type": "code",
      "source": [
        "# Recipe file sample\n",
        "with open(\"greek yorgut_breakfast_recipe.md\", 'r') as f:\n",
        "  file = f.read()\n",
        "\n",
        "display.Markdown(file)"
      ],
      "metadata": {
        "colab": {
          "base_uri": "https://localhost:8080/",
          "height": 542
        },
        "id": "r0tGPFxt6LKn",
        "outputId": "309f9b84-49c1-4e6b-9822-f9301c0bbb9a"
      },
      "execution_count": null,
      "outputs": [
        {
          "output_type": "execute_result",
          "data": {
            "text/plain": [
              "<IPython.core.display.Markdown object>"
            ],
            "text/markdown": "### Greek Yogurt Breakfast Bowl Recipe\n\n#### Recipe Summary\n\n*   **Title:** Greek Yogurt Breakfast Bowl\n*   **Ingredients:**\n    *   1 cup Greek yogurt (Healthym's Greek Yorgut)\n    *   1/2 cup mixed berries (fresh or frozen)\n    *   1 tablespoon honey\n    *   1/2 cup granola\n    *   1/4 cup chopped walnuts\n*   **Prep Time:** 5 minutes\n*   **Cook Time:** 0 minutes\n*   **Servings:** 1\n\n#### How to Make It Step-by-Step\n\n1.  In a small bowl, mix together the Greek yogurt and honey until well combined.\n2.  Add the mixed berries to the yogurt mixture and gently fold them in.\n3.  In a separate bowl, mix together the granola and chopped walnuts.\n4.  Spoon the yogurt and berry mixture into a bowl or glass.\n5.  Top the yogurt mixture with the granola and walnut mixture.\n6.  Serve immediately and enjoy!\n\nThis recipe is perfect for a quick and healthy breakfast on-the-go. The Greek yogurt provides a good source of protein, while the mixed berries add natural sweetness and the granola and walnuts provide a crunchy texture. This recipe is also versatile and can be customized to your taste preferences. You can use different types of berries or add other toppings such as banana slices or shredded coconut. Enjoy your delicious and nutritious Greek Yogurt Breakfast Bowl!"
          },
          "metadata": {},
          "execution_count": 17
        }
      ]
    },
    {
      "cell_type": "markdown",
      "source": [
        "### 4. Suppliers"
      ],
      "metadata": {
        "id": "SUzxUTqqr29j"
      }
    },
    {
      "cell_type": "code",
      "source": [
        "# Generate information about Healthym supliers. Use company descrition as a base to start\n",
        "\n",
        "# Generate a list of supliers\n",
        "\n",
        "input_prompt = \"Generate a list of 5 suppliers that work with Healthym, a company that sells healthy foods at local stores.\\n\"\n",
        "input_prompt += \"Use the company description as context.\\n\"\n",
        "input_prompt += f\"Company description:\\n\\n {company_summary}\\n\\n\"\n",
        "input_prompt += \"Give each suplier a name and a short description of what is provides.\"\n",
        "\n",
        "inputs = tokenizer(input_prompt, return_tensors=\"pt\").to(\"cuda\")\n",
        "input_length = inputs['input_ids'].shape[1]  # Number of tokens in the prompt\n",
        "outputs = model.generate(inputs['input_ids'], max_new_tokens=500)\n",
        "generated_tokens = outputs[0][input_length:]\n",
        "suppliers_list = tokenizer.decode(generated_tokens, skip_special_tokens=True)"
      ],
      "metadata": {
        "id": "J6imRInsrs_-"
      },
      "execution_count": null,
      "outputs": []
    },
    {
      "cell_type": "code",
      "source": [
        "display.Markdown(suppliers_list)"
      ],
      "metadata": {
        "colab": {
          "base_uri": "https://localhost:8080/",
          "height": 545
        },
        "id": "JhvHHKo1rn3m",
        "outputId": "c9c7ca6d-41cf-4821-9348-934a9fa918a6"
      },
      "execution_count": null,
      "outputs": [
        {
          "output_type": "execute_result",
          "data": {
            "text/plain": [
              "<IPython.core.display.Markdown object>"
            ],
            "text/markdown": "  Here is the list of 5 suppliers:\n\n1. **Green Earth Produce Co.**\n\t* Description: Green Earth Produce Co. specializes in organic and locally grown produce, offering a wide variety of fruits and vegetables that meet Healthym's high standards for quality and sustainability.\n2. **Artisan's Grain Mill**\n\t* Description: Artisan's Grain Mill is a small-scale producer of artisanal bread, pasta, and rice. They use traditional methods and high-quality ingredients to create unique and delicious products that cater to Healthym's customers.\n3. **PureProtein**\n\t* Description: PureProtein is a local supplier of organic tofu, tempeh, and seitan. They use a proprietary process to ensure the highest quality and nutritional content of their products, which are carefully selected by Healthym's team.\n4. **Fermentia Foods**\n\t* Description: Fermentia Foods is a specialty food supplier that offers a range of artisanal cheeses, fermented foods, and international cuisine. Their products are carefully crafted to meet Healthym's standards for quality, taste, and nutritional value.\n5. **Sunny Meadows Meal Kits**\n\t* Description: Sunny Meadows Meal Kits provides pre-portioned ingredients and recipes for easy meal prep. Their products are designed to cater to Healthym's customers' busy lifestyles, while promoting healthy eating and sustainability.\n\nThese suppliers work closely with Healthym to ensure the highest quality and consistency of their products, which are carefully selected to meet the diverse needs of their customers. By partnering with local suppliers, Healthym promotes sustainability, supports local economies, and fosters a culture of community engagement."
          },
          "metadata": {},
          "execution_count": 23
        }
      ]
    },
    {
      "cell_type": "code",
      "source": [
        "# Save it locally\n",
        "with open(f'suppliers_list.md', 'w') as f:\n",
        "  f.write(suppliers_list)\n",
        "files.download(f'suppliers_list.md')"
      ],
      "metadata": {
        "colab": {
          "base_uri": "https://localhost:8080/",
          "height": 17
        },
        "id": "qSx2iqjlFInX",
        "outputId": "75fa83e7-6581-4090-f12c-fd5402a90671"
      },
      "execution_count": null,
      "outputs": [
        {
          "output_type": "display_data",
          "data": {
            "text/plain": [
              "<IPython.core.display.Javascript object>"
            ],
            "application/javascript": [
              "\n",
              "    async function download(id, filename, size) {\n",
              "      if (!google.colab.kernel.accessAllowed) {\n",
              "        return;\n",
              "      }\n",
              "      const div = document.createElement('div');\n",
              "      const label = document.createElement('label');\n",
              "      label.textContent = `Downloading \"${filename}\": `;\n",
              "      div.appendChild(label);\n",
              "      const progress = document.createElement('progress');\n",
              "      progress.max = size;\n",
              "      div.appendChild(progress);\n",
              "      document.body.appendChild(div);\n",
              "\n",
              "      const buffers = [];\n",
              "      let downloaded = 0;\n",
              "\n",
              "      const channel = await google.colab.kernel.comms.open(id);\n",
              "      // Send a message to notify the kernel that we're ready.\n",
              "      channel.send({})\n",
              "\n",
              "      for await (const message of channel.messages) {\n",
              "        // Send a message to notify the kernel that we're ready.\n",
              "        channel.send({})\n",
              "        if (message.buffers) {\n",
              "          for (const buffer of message.buffers) {\n",
              "            buffers.push(buffer);\n",
              "            downloaded += buffer.byteLength;\n",
              "            progress.value = downloaded;\n",
              "          }\n",
              "        }\n",
              "      }\n",
              "      const blob = new Blob(buffers, {type: 'application/binary'});\n",
              "      const a = document.createElement('a');\n",
              "      a.href = window.URL.createObjectURL(blob);\n",
              "      a.download = filename;\n",
              "      div.appendChild(a);\n",
              "      a.click();\n",
              "      div.remove();\n",
              "    }\n",
              "  "
            ]
          },
          "metadata": {}
        },
        {
          "output_type": "display_data",
          "data": {
            "text/plain": [
              "<IPython.core.display.Javascript object>"
            ],
            "application/javascript": [
              "download(\"download_af4722f5-e160-470e-9c18-8a894fa81090\", \"suppliers_list.md\", 1666)"
            ]
          },
          "metadata": {}
        }
      ]
    },
    {
      "cell_type": "code",
      "source": [
        "# Generate suppliers information\n",
        "\n",
        "suppliers = [\"Green Earth Produce Co\", \"Artisan's Grain Mill\", \"PureProtein\", \"Fermentia Foods\", \"Sunny Meadows Meal Kits\"]\n",
        "\n",
        "for supplier in suppliers:\n",
        "\n",
        "\n",
        "  prompt = (\n",
        "      \"Generate a document about a supplier that works with Healthym, a company that sells healthy foods at local stores.\\n\"\n",
        "      \"This document should contain a brief description of what the supplier provides and why Healthym works with them;\"\n",
        "      \"Use both the 'Company summary' and 'Suppliers summary' as context;\\n\\n\"\n",
        "      f\"Company summary:\\n {company_summary}.\\n\\n\"\n",
        "      f\"Suppliers summary: {suppliers_list}.\\n\\n\"\n",
        "      f\"The supplier is {supplier}\"\n",
        "  )\n",
        "\n",
        "  supplier_description = generate_document(prompt, max_new_tokens=1000)\n",
        "\n",
        "  with open(f'{supplier}.md', 'w') as f:\n",
        "    f.write(supplier_description)\n",
        "  files.download(f'{supplier}.md')"
      ],
      "metadata": {
        "id": "o_eFIH8h_OdZ"
      },
      "execution_count": null,
      "outputs": []
    },
    {
      "cell_type": "code",
      "source": [
        "# Supplier file sample\n",
        "\n",
        "with open(\"Artisan's Grain Mill.md\", 'r') as f:\n",
        "  file = f.read()\n",
        "\n",
        "display.Markdown(file)"
      ],
      "metadata": {
        "colab": {
          "base_uri": "https://localhost:8080/",
          "height": 744
        },
        "id": "bzX7Sk_sP5NW",
        "outputId": "3d207711-49a7-4f5c-bf58-ea31f6c42044"
      },
      "execution_count": null,
      "outputs": [
        {
          "output_type": "execute_result",
          "data": {
            "text/plain": [
              "<IPython.core.display.Markdown object>"
            ],
            "text/markdown": "=====================================\n\n### Supplier: Artisan's Grain Mill\n\n**Description**\n---------------\n\nArtisan's Grain Mill is a small-scale producer of artisanal bread, pasta, and rice. They use traditional methods and high-quality ingredients to create unique and delicious products that cater to Healthym's customers.\n\n**Why Healthym Works with Artisan's Grain Mill**\n----------------------------------------------\n\nHealthym values Artisan's Grain Mill for their commitment to quality, sustainability, and community engagement. Here are some reasons why we partner with them:\n\n*   **High-quality products**: Artisan's Grain Mill produces artisanal bread, pasta, and rice that meet Healthym's high standards for quality and taste.\n*   **Sustainable practices**: They use traditional methods and locally sourced ingredients to minimize their environmental footprint.\n*   **Community engagement**: Artisan's Grain Mill supports local farmers and artisans, promoting a culture of sustainability and community engagement.\n*   **Collaborative approach**: We work closely with Artisan's Grain Mill to ensure the highest quality and consistency of their products, which are carefully selected to meet the diverse needs of our customers.\n\n**Benefits of Partnering with Artisan's Grain Mill**\n---------------------------------------------------\n\nBy partnering with Artisan's Grain Mill, Healthym benefits from:\n\n*   **Unique and delicious products**: Artisan's Grain Mill's products are carefully crafted to meet our customers' expectations for quality, taste, and nutritional value.\n*   **Sustainable and eco-friendly practices**: Their commitment to sustainability aligns with Healthym's values and promotes a more environmentally responsible food system.\n*   **Community engagement and support**: Artisan's Grain Mill's community-focused approach resonates with Healthym's mission to nourish communities and create a healthier, happier world.\n\n**Conclusion**\n----------\n\nArtisan's Grain Mill is a valued supplier of Healthym, offering high-quality, artisanal bread, pasta, and rice that meet our customers' needs. By partnering with them, we promote sustainability, support local economies, and foster a culture of community engagement. Join us in our mission to nourish communities and create a healthier, happier world. Together, we can make a positive impact on the health and well-being of our customers and the environment."
          },
          "metadata": {},
          "execution_count": 26
        }
      ]
    },
    {
      "cell_type": "markdown",
      "source": [
        "## Final remarks\n",
        "\n",
        "This notebook show the process of creation of a knowledge base for the fictional company Healthym. The knowledge base created is composed of 69 text documents and contains information about the company description, its products, recipes and suppliers."
      ],
      "metadata": {
        "id": "dda6EYs-Qcms"
      }
    }
  ]
}