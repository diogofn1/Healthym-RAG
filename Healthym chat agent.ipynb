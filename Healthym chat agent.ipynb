{
 "cells": [
  {
   "cell_type": "markdown",
   "id": "432478e7",
   "metadata": {},
   "source": [
    "# Healthym Chat Agent\n",
    "The goal of this notebook is to build a chat agent for Healthym, a fictional company in the healthy foods industry. To build the chatbot, a large language model will be used alongisde Retrieval Augmented Generation and the company's knowledge base."
   ]
  },
  {
   "cell_type": "code",
   "execution_count": 1,
   "id": "4960aae2",
   "metadata": {},
   "outputs": [],
   "source": [
    "# Relevant imports\n",
    "\n",
    "import os\n",
    "import glob\n",
    "from dotenv import load_dotenv\n",
    "import numpy as np\n",
    "from langchain.document_loaders import DirectoryLoader, TextLoader\n",
    "from langchain.text_splitter import CharacterTextSplitter\n",
    "from langchain_openai import OpenAIEmbeddings, ChatOpenAI\n",
    "from langchain_chroma import Chroma\n",
    "from langchain.memory import ConversationBufferMemory\n",
    "from langchain.chains import ConversationalRetrievalChain\n",
    "import gradio as gr"
   ]
  },
  {
   "cell_type": "code",
   "execution_count": 2,
   "id": "4debee3f",
   "metadata": {},
   "outputs": [],
   "source": [
    "# Load environment variables\n",
    "\n",
    "load_dotenv(override=True)\n",
    "os.environ['OPENAI_API_KEY'] = os.getenv('OPENAI_API_KEY')"
   ]
  },
  {
   "cell_type": "code",
   "execution_count": 3,
   "id": "d179bc77",
   "metadata": {},
   "outputs": [],
   "source": [
    "# Define model to be used and a database name\n",
    "\n",
    "MODEL = \"gpt-4o-mini\" # This can be changed to another model. This one was set due to its high cost efficiency\n",
    "db_name = \"vector_db\""
   ]
  },
  {
   "cell_type": "code",
   "execution_count": 17,
   "id": "e6f4b60c",
   "metadata": {},
   "outputs": [
    {
     "data": {
      "text/plain": [
       "['knowledge_base\\\\company',\n",
       " 'knowledge_base\\\\products',\n",
       " 'knowledge_base\\\\recipes',\n",
       " 'knowledge_base\\\\suppliers']"
      ]
     },
     "execution_count": 17,
     "metadata": {},
     "output_type": "execute_result"
    }
   ],
   "source": [
    "folders = glob.glob(\"knowledge_base/*\")\n",
    "folders"
   ]
  },
  {
   "cell_type": "code",
   "execution_count": 18,
   "id": "a0bd23e1",
   "metadata": {},
   "outputs": [],
   "source": [
    "\n",
    "# Set paths for folders in the company's knowledge base\n",
    "\n",
    "folders = glob.glob(\"knowledge_base/*\")\n",
    "\n",
    "# Set encoding for reading the text documents\n",
    "text_loader_kwargs = {'encoding': 'utf-8'}\n",
    "\n",
    "# Load documents using LagChain loaders\n",
    "documents = []\n",
    "for folder in folders:\n",
    "    doc_type = os.path.basename(folder)\n",
    "    loader = DirectoryLoader(folder, glob=\"**/*.md\", loader_cls=TextLoader, loader_kwargs=text_loader_kwargs)\n",
    "    folder_docs = loader.load()\n",
    "    for doc in folder_docs:\n",
    "        doc.metadata[\"doc_type\"] = doc_type\n",
    "        documents.append(doc)"
   ]
  },
  {
   "cell_type": "code",
   "execution_count": 19,
   "id": "ae7b1589",
   "metadata": {},
   "outputs": [
    {
     "data": {
      "text/plain": [
       "Document(metadata={'source': 'knowledge_base\\\\company\\\\company_summary.md', 'doc_type': 'company'}, page_content=\"==============================================\\n\\nHealthym: Nourishing Communities with Healthy Foods\\n=====================================================\\n\\n### Summary\\n\\nHealthym is a pioneering company dedicated to providing high-quality, healthy foods to local communities. We believe that everyone deserves access to nutritious food, regardless of their location or socioeconomic status. Our mission is to make healthy eating a reality for all, while promoting sustainability and supporting local economies.\\n\\n### Services\\n\\nHealthym offers a wide range of healthy food products, including:\\n\\n* Fresh produce: seasonal fruits and vegetables sourced from local farmers\\n* Whole grains: artisanal bread, pasta, and rice from small-scale producers\\n* Plant-based protein: organic tofu, tempeh, and seitan from local suppliers\\n* Specialty foods: artisanal cheeses, fermented foods, and international cuisine\\n* Meal kits: pre-portioned ingredients and recipes for easy meal prep\\n\\nOur products are carefully curated to meet the diverse needs of our customers, from busy professionals to families and individuals with dietary restrictions.\\n\\n### Background History\\n\\nHealthym was founded in 2015 by a group of passionate entrepreneurs who recognized the need for healthier food options in local communities. Our initial store opened in a small town in the Midwest, where we quickly gained a loyal customer base. As our popularity grew, we expanded to new locations, refining our business model and product offerings along the way.\\n\\nToday, Healthym operates over 50 stores across the United States, with a strong presence in urban and rural areas. Our commitment to quality, sustainability, and community engagement has earned us a reputation as a trusted leader in the healthy food industry.\\n\\n### Company Values and Mission\\n\\nAt Healthym, we live by the following values:\\n\\n* **Quality**: We source only the best ingredients from local suppliers to ensure our products meet the highest standards.\\n* **Sustainability**: We strive to minimize our environmental footprint through eco-friendly packaging, reduced waste, and energy-efficient operations.\\n* **Community**: We believe in giving back to the communities we serve, through partnerships with local organizations and initiatives that promote food security and education.\\n\\nOur mission is to:\\n\\n* Provide access to healthy, nutritious food for all members of our communities\\n* Foster a culture of sustainability and environmental responsibility\\n* Support local economies and small-scale producers\\n* Educate and empower our customers to make informed food choices\\n\\nAt Healthym, we're dedicated to making a positive impact on the health and well-being of our customers, while promoting a more sustainable and equitable food system. Join us in our mission to nourish communities and create a healthier, happier world.\")"
      ]
     },
     "execution_count": 19,
     "metadata": {},
     "output_type": "execute_result"
    }
   ],
   "source": [
    "# Sample document\n",
    "\n",
    "documents[0]"
   ]
  },
  {
   "cell_type": "code",
   "execution_count": 20,
   "id": "5a946eb0",
   "metadata": {},
   "outputs": [
    {
     "data": {
      "text/plain": [
       "68"
      ]
     },
     "execution_count": 20,
     "metadata": {},
     "output_type": "execute_result"
    }
   ],
   "source": [
    "# Check number of documents in knowledge base\n",
    "\n",
    "len(documents)"
   ]
  },
  {
   "cell_type": "code",
   "execution_count": 21,
   "id": "1c6e2821",
   "metadata": {},
   "outputs": [
    {
     "name": "stderr",
     "output_type": "stream",
     "text": [
      "Created a chunk of size 1931, which is longer than the specified 1000\n",
      "Created a chunk of size 1105, which is longer than the specified 1000\n",
      "Created a chunk of size 1029, which is longer than the specified 1000\n",
      "Created a chunk of size 1005, which is longer than the specified 1000\n",
      "Created a chunk of size 1303, which is longer than the specified 1000\n"
     ]
    }
   ],
   "source": [
    "# Split the documents into smallers chunks to be used by a llm as context\n",
    "\n",
    "text_splitter = CharacterTextSplitter(chunk_size=1000, chunk_overlap=200)\n",
    "chunks = text_splitter.split_documents(documents)"
   ]
  },
  {
   "cell_type": "code",
   "execution_count": null,
   "id": "2b81db3e",
   "metadata": {},
   "outputs": [
    {
     "data": {
      "text/plain": [
       "233"
      ]
     },
     "execution_count": 22,
     "metadata": {},
     "output_type": "execute_result"
    }
   ],
   "source": [
    "# Inspect number of generated chunks\n",
    "\n",
    "len(chunks)"
   ]
  },
  {
   "cell_type": "code",
   "execution_count": null,
   "id": "5a89a79f",
   "metadata": {},
   "outputs": [
    {
     "name": "stdout",
     "output_type": "stream",
     "text": [
      "Document types found: company, products, recipes, suppliers\n"
     ]
    }
   ],
   "source": [
    "# Che\n",
    "\n",
    "doc_types = set(chunk.metadata['doc_type'] for chunk in chunks)\n",
    "print(f\"Document types found: {', '.join(doc_types)}\")"
   ]
  },
  {
   "cell_type": "code",
   "execution_count": 6,
   "id": "6ca0afec",
   "metadata": {},
   "outputs": [],
   "source": [
    "# Define text embedding model\n",
    "\n",
    "embeddings = OpenAIEmbeddings()\n",
    "\n",
    "# Could also use HuggingFaceEmbeddings if one is looking for a free alternative or if one has another specific model in mind\n",
    "# from langchain.embeddings import HuggingFaceEmbeddings\n",
    "# embeddings = HuggingFaceEmbeddings(model_name=\"sentence-transformers/all-MiniLM-L6-v2\")"
   ]
  },
  {
   "cell_type": "code",
   "execution_count": 28,
   "id": "0b223bd0",
   "metadata": {},
   "outputs": [],
   "source": [
    "# Check if a Chroma Datastore already exists.chunks\n",
    "# If it exists, delete it to start over\n",
    "\n",
    "if os.path.exists(db_name):\n",
    "    Chroma(persist_directory=db_name, embedding_function=embeddings).delete_collection()\n"
   ]
  },
  {
   "cell_type": "code",
   "execution_count": null,
   "id": "bd1ff7e1",
   "metadata": {},
   "outputs": [],
   "source": [
    "# Create Chroma vectorstore\n",
    "\n",
    "vectorstore = Chroma.from_documents(documents=chunks, embedding=embeddings, persist_directory=db_name)\n",
    "print(f\"Vectorstore created with {vectorstore._collection.count()} documents\")"
   ]
  },
  {
   "cell_type": "code",
   "execution_count": null,
   "id": "55541066",
   "metadata": {},
   "outputs": [
    {
     "name": "stdout",
     "output_type": "stream",
     "text": [
      "The vectors have 1,536 dimensions\n"
     ]
    }
   ],
   "source": [
    "# Get one sample vector and display its dimensions\n",
    "\n",
    "collection = vectorstore._collection\n",
    "sample_embedding = collection.get(limit=1, include=[\"embeddings\"])[\"embeddings\"][0]\n",
    "dimensions = len(sample_embedding)\n",
    "print(f\"The vectors have {dimensions:,} dimensions\")"
   ]
  },
  {
   "cell_type": "code",
   "execution_count": 8,
   "id": "4a0a8db3",
   "metadata": {},
   "outputs": [],
   "source": [
    "# Create the chat instance to be used in the conversation chain\n",
    "llm = ChatOpenAI(temperature=0.7, model_name=MODEL)\n",
    "\n",
    "# Define the memory to be used in the conversation chain\n",
    "memory = ConversationBufferMemory(memory_key='chat_history', return_messages=True)\n",
    "\n",
    "# Define the retriever to be used in the conversation chain when retrieving relevant documents from the vector store.\n",
    "retriever = vectorstore.as_retriever(search_kwargs={\"k\": 10})\n",
    "\n",
    "# Create the conversation chain using the llm, memory, and retriever previously defined\n",
    "conversation_chain = ConversationalRetrievalChain.from_llm(llm=llm, retriever=retriever, memory=memory)"
   ]
  },
  {
   "cell_type": "code",
   "execution_count": 65,
   "id": "21d4b5d2",
   "metadata": {},
   "outputs": [],
   "source": [
    "# Test the application with sample queries\n",
    "\n",
    "query = \"Can you provide a short description of what Healthym does?\"\n",
    "result = conversation_chain.invoke({\"question\":query})"
   ]
  },
  {
   "cell_type": "code",
   "execution_count": 66,
   "id": "eaea4a50",
   "metadata": {},
   "outputs": [
    {
     "name": "stdout",
     "output_type": "stream",
     "text": [
      "Healthym is a pioneering company dedicated to providing high-quality, healthy foods to local communities. They offer a wide range of products, including fresh produce, whole grains, plant-based proteins, specialty foods, and meal kits. Healthym's mission is to make healthy eating accessible to everyone while promoting sustainability and supporting local economies.\n"
     ]
    }
   ],
   "source": [
    "print(result['answer'])"
   ]
  },
  {
   "cell_type": "code",
   "execution_count": 89,
   "id": "41b41ae8",
   "metadata": {},
   "outputs": [
    {
     "name": "stdout",
     "output_type": "stream",
     "text": [
      "Healthym offers a wide range of healthy food products, including:\n",
      "\n",
      "- Fresh produce: seasonal fruits and vegetables sourced from local farmers\n",
      "- Whole grains: artisanal bread, pasta, and rice from small-scale producers\n",
      "- Plant-based protein: organic tofu, tempeh, and seitan from local suppliers\n",
      "- Specialty foods: artisanal cheeses, fermented foods, and international cuisine\n",
      "- Meal kits: pre-portioned ingredients and recipes for easy meal prep\n",
      "\n",
      "Additionally, they provide meal kits catering to different dietary needs, including vegetarian, vegan, gluten-free, and keto-friendly options.\n"
     ]
    }
   ],
   "source": [
    "result2 = conversation_chain.invoke({\"question\":\"What Healthym sells?\"})\n",
    "print(result2['answer'])"
   ]
  },
  {
   "cell_type": "code",
   "execution_count": 91,
   "id": "05b56cbd",
   "metadata": {},
   "outputs": [],
   "source": [
    "# Wrap the LangChain conversation chain in a function to be used with Gradio interface\n",
    "\n",
    "def chat(message, history): # History is not used in this case (history is stored in LangChain), but it is required by Gradio CahtInterface\n",
    "    result = conversation_chain.invoke({\"question\": message})\n",
    "    return result[\"answer\"]"
   ]
  },
  {
   "cell_type": "code",
   "execution_count": null,
   "id": "a1e1e7cc",
   "metadata": {},
   "outputs": [],
   "source": [
    "# Launch chatbot using Gradio\n",
    "\n",
    "view = gr.ChatInterface(chat, \n",
    "                        type=\"messages\", \n",
    "                        title=\"Healthym Chatbot\",\n",
    "                        description=\"Ask me anything about Healthym\",\n",
    "                        theme=\"soft\")\n",
    "\n",
    "view.launch()"
   ]
  },
  {
   "cell_type": "markdown",
   "id": "956e562f",
   "metadata": {},
   "source": [
    "### Final remarks\n",
    "The chat agent work as intended and could be used by Healthym as part of customers' support."
   ]
  }
 ],
 "metadata": {
  "kernelspec": {
   "display_name": "llms",
   "language": "python",
   "name": "python3"
  },
  "language_info": {
   "codemirror_mode": {
    "name": "ipython",
    "version": 3
   },
   "file_extension": ".py",
   "mimetype": "text/x-python",
   "name": "python",
   "nbconvert_exporter": "python",
   "pygments_lexer": "ipython3",
   "version": "3.11.12"
  }
 },
 "nbformat": 4,
 "nbformat_minor": 5
}
